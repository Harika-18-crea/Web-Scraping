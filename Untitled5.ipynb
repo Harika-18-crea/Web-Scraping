{
 "cells": [
  {
   "cell_type": "code",
   "execution_count": 3,
   "id": "b22db806-0ad2-417b-b272-58989e096717",
   "metadata": {},
   "outputs": [],
   "source": [
    "from bs4 import BeautifulSoup"
   ]
  },
  {
   "cell_type": "code",
   "execution_count": 1,
   "id": "d9ff4c77-21d9-443a-8004-63a637aeb3a2",
   "metadata": {},
   "outputs": [],
   "source": [
    "import requests"
   ]
  },
  {
   "cell_type": "code",
   "execution_count": 9,
   "id": "5cc0806a-ccc4-4fb8-931f-a83da8a29163",
   "metadata": {},
   "outputs": [
    {
     "name": "stdout",
     "output_type": "stream",
     "text": [
      "<class 'str'>\n"
     ]
    }
   ],
   "source": [
    "response=requests.get(\"https://realpython.com/\")\n",
    "print(type(response.text))"
   ]
  },
  {
   "cell_type": "code",
   "execution_count": 11,
   "id": "4206bdae-1494-429a-8385-56eee6783efa",
   "metadata": {},
   "outputs": [],
   "source": [
    "html_doc=response.text"
   ]
  },
  {
   "cell_type": "code",
   "execution_count": 13,
   "id": "079f6ed8-96a5-426f-9691-f539e5ce639d",
   "metadata": {},
   "outputs": [],
   "source": [
    "soup=BeautifulSoup(html_doc,\"html.parser\")"
   ]
  },
  {
   "cell_type": "code",
   "execution_count": 42,
   "id": "31718414-81e7-46e3-aee0-f2ea3f52cc72",
   "metadata": {},
   "outputs": [
    {
     "data": {
      "text/plain": [
       "[<h2 class=\"card-title h2 my-0 py-0\">How to Split a String in Python</h2>,\n",
       " <h2 class=\"card-title h4 my-0 py-0\">NumPy Techniques and Practical Examples</h2>,\n",
       " <h2 class=\"card-title h4 my-0 py-0\">Python for Loops: The Pythonic Way</h2>,\n",
       " <h2 class=\"card-title h4 my-0 py-0\">Build a Dice-Rolling Application With Python</h2>,\n",
       " <h2 class=\"card-title h4 my-0 py-0\">Top Python Game Engines</h2>,\n",
       " <h2 class=\"card-title h4 my-0 py-0\">Develop Data Visualization Interfaces in Python With Dash</h2>,\n",
       " <h2 class=\"card-title h4 my-0 py-0\">Build a Quiz Application With Python</h2>,\n",
       " <h2 class=\"card-title h4 my-0 py-0\">Build a Tic-Tac-Toe Game With Python and Tkinter</h2>,\n",
       " <h2 class=\"card-title h4 my-0 py-0\">Python &amp; APIs: A Winning Combo for Reading Public Data</h2>,\n",
       " <h2 class=\"card-title h4 my-0 py-0\">A Guide to Modern Python String Formatting Tools</h2>,\n",
       " <h2 class=\"card-title h4 my-0 py-0\">Providing Multiple Constructors in Your Python Classes</h2>,\n",
       " <h2 class=\"card-title h4 my-0 py-0\">Natural Language Processing With spaCy in Python</h2>,\n",
       " <h2 class=\"card-title h4 my-0 py-0\">Split Your Dataset With scikit-learn's train_test_split()</h2>,\n",
       " <h2 class=\"card-title h4 my-0 py-0\">Creating a Scalable Flask Web Application From Scratch</h2>,\n",
       " <h2 class=\"card-title h4 my-0 py-0\">How to Split a Python List or Iterable Into Chunks</h2>,\n",
       " <h2 class=\"card-title h4 my-0 py-0\">Lists vs Tuples in Python</h2>,\n",
       " <h2 class=\"card-title h4 my-0 py-0\">Python Folium: Create Web Maps From Your Data</h2>,\n",
       " <h2 class=\"card-title h4 my-0 py-0\">Python's \"in\" and \"not in\" Operators: Check for Membership</h2>,\n",
       " <h2 class=\"card-title h4 my-0 py-0\">Python's zipfile: Manipulate Your ZIP Files Efficiently</h2>]"
      ]
     },
     "execution_count": 42,
     "metadata": {},
     "output_type": "execute_result"
    }
   ],
   "source": [
    "titles=soup.find_all(\"h2\" ,class_=\"card-title\")\n",
    "titles"
   ]
  },
  {
   "cell_type": "code",
   "execution_count": 28,
   "id": "dd89cbab-a560-4c2f-8d96-78e812a0e404",
   "metadata": {},
   "outputs": [
    {
     "data": {
      "text/plain": [
       "['How to Split a String in Python',\n",
       " 'NumPy Techniques and Practical Examples',\n",
       " 'Python for Loops: The Pythonic Way',\n",
       " 'Build a Dice-Rolling Application With Python',\n",
       " 'Top Python Game Engines',\n",
       " 'Develop Data Visualization Interfaces in Python With Dash',\n",
       " 'Build a Quiz Application With Python',\n",
       " 'Build a Tic-Tac-Toe Game With Python and Tkinter',\n",
       " 'Python & APIs: A Winning Combo for Reading Public Data',\n",
       " 'A Guide to Modern Python String Formatting Tools',\n",
       " 'Providing Multiple Constructors in Your Python Classes',\n",
       " 'Natural Language Processing With spaCy in Python',\n",
       " \"Split Your Dataset With scikit-learn's train_test_split()\",\n",
       " 'Creating a Scalable Flask Web Application From Scratch',\n",
       " 'How to Split a Python List or Iterable Into Chunks',\n",
       " 'Lists vs Tuples in Python',\n",
       " 'Python Folium: Create Web Maps From Your Data',\n",
       " 'Python\\'s \"in\" and \"not in\" Operators: Check for Membership',\n",
       " \"Python's zipfile: Manipulate Your ZIP Files Efficiently\"]"
      ]
     },
     "execution_count": 28,
     "metadata": {},
     "output_type": "execute_result"
    }
   ],
   "source": [
    "\"\"\"data=[]\n",
    "for i in titles:\n",
    "    #print(i.text)\n",
    "    data.append(i.text)\n",
    "data\"\"\"\n",
    "data=[i.text for i in titles]\n",
    "data"
   ]
  },
  {
   "cell_type": "code",
   "execution_count": 32,
   "id": "9834c3f0-0ad8-4b10-9c90-989625a4a38b",
   "metadata": {},
   "outputs": [
    {
     "data": {
      "text/plain": [
       "{'CARD TITLES': ['How to Split a String in Python',\n",
       "  'NumPy Techniques and Practical Examples',\n",
       "  'Python for Loops: The Pythonic Way',\n",
       "  'Build a Dice-Rolling Application With Python',\n",
       "  'Top Python Game Engines',\n",
       "  'Develop Data Visualization Interfaces in Python With Dash',\n",
       "  'Build a Quiz Application With Python',\n",
       "  'Build a Tic-Tac-Toe Game With Python and Tkinter',\n",
       "  'Python & APIs: A Winning Combo for Reading Public Data',\n",
       "  'A Guide to Modern Python String Formatting Tools',\n",
       "  'Providing Multiple Constructors in Your Python Classes',\n",
       "  'Natural Language Processing With spaCy in Python',\n",
       "  \"Split Your Dataset With scikit-learn's train_test_split()\",\n",
       "  'Creating a Scalable Flask Web Application From Scratch',\n",
       "  'How to Split a Python List or Iterable Into Chunks',\n",
       "  'Lists vs Tuples in Python',\n",
       "  'Python Folium: Create Web Maps From Your Data',\n",
       "  'Python\\'s \"in\" and \"not in\" Operators: Check for Membership',\n",
       "  \"Python's zipfile: Manipulate Your ZIP Files Efficiently\"]}"
      ]
     },
     "execution_count": 32,
     "metadata": {},
     "output_type": "execute_result"
    }
   ],
   "source": [
    "DIC={\"CARD_TITLES\":data}\n",
    "DIC"
   ]
  },
  {
   "cell_type": "code",
   "execution_count": 36,
   "id": "a63d9ebd-1fd0-47d4-b542-ac09bf6a74fe",
   "metadata": {},
   "outputs": [
    {
     "data": {
      "text/html": [
       "<div>\n",
       "<style scoped>\n",
       "    .dataframe tbody tr th:only-of-type {\n",
       "        vertical-align: middle;\n",
       "    }\n",
       "\n",
       "    .dataframe tbody tr th {\n",
       "        vertical-align: top;\n",
       "    }\n",
       "\n",
       "    .dataframe thead th {\n",
       "        text-align: right;\n",
       "    }\n",
       "</style>\n",
       "<table border=\"1\" class=\"dataframe\">\n",
       "  <thead>\n",
       "    <tr style=\"text-align: right;\">\n",
       "      <th></th>\n",
       "      <th>CARD TITLES</th>\n",
       "    </tr>\n",
       "  </thead>\n",
       "  <tbody>\n",
       "    <tr>\n",
       "      <th>0</th>\n",
       "      <td>How to Split a String in Python</td>\n",
       "    </tr>\n",
       "    <tr>\n",
       "      <th>1</th>\n",
       "      <td>NumPy Techniques and Practical Examples</td>\n",
       "    </tr>\n",
       "    <tr>\n",
       "      <th>2</th>\n",
       "      <td>Python for Loops: The Pythonic Way</td>\n",
       "    </tr>\n",
       "    <tr>\n",
       "      <th>3</th>\n",
       "      <td>Build a Dice-Rolling Application With Python</td>\n",
       "    </tr>\n",
       "    <tr>\n",
       "      <th>4</th>\n",
       "      <td>Top Python Game Engines</td>\n",
       "    </tr>\n",
       "    <tr>\n",
       "      <th>5</th>\n",
       "      <td>Develop Data Visualization Interfaces in Pytho...</td>\n",
       "    </tr>\n",
       "    <tr>\n",
       "      <th>6</th>\n",
       "      <td>Build a Quiz Application With Python</td>\n",
       "    </tr>\n",
       "    <tr>\n",
       "      <th>7</th>\n",
       "      <td>Build a Tic-Tac-Toe Game With Python and Tkinter</td>\n",
       "    </tr>\n",
       "    <tr>\n",
       "      <th>8</th>\n",
       "      <td>Python &amp; APIs: A Winning Combo for Reading Pub...</td>\n",
       "    </tr>\n",
       "    <tr>\n",
       "      <th>9</th>\n",
       "      <td>A Guide to Modern Python String Formatting Tools</td>\n",
       "    </tr>\n",
       "    <tr>\n",
       "      <th>10</th>\n",
       "      <td>Providing Multiple Constructors in Your Python...</td>\n",
       "    </tr>\n",
       "    <tr>\n",
       "      <th>11</th>\n",
       "      <td>Natural Language Processing With spaCy in Python</td>\n",
       "    </tr>\n",
       "    <tr>\n",
       "      <th>12</th>\n",
       "      <td>Split Your Dataset With scikit-learn's train_t...</td>\n",
       "    </tr>\n",
       "    <tr>\n",
       "      <th>13</th>\n",
       "      <td>Creating a Scalable Flask Web Application From...</td>\n",
       "    </tr>\n",
       "    <tr>\n",
       "      <th>14</th>\n",
       "      <td>How to Split a Python List or Iterable Into Ch...</td>\n",
       "    </tr>\n",
       "    <tr>\n",
       "      <th>15</th>\n",
       "      <td>Lists vs Tuples in Python</td>\n",
       "    </tr>\n",
       "    <tr>\n",
       "      <th>16</th>\n",
       "      <td>Python Folium: Create Web Maps From Your Data</td>\n",
       "    </tr>\n",
       "    <tr>\n",
       "      <th>17</th>\n",
       "      <td>Python's \"in\" and \"not in\" Operators: Check fo...</td>\n",
       "    </tr>\n",
       "    <tr>\n",
       "      <th>18</th>\n",
       "      <td>Python's zipfile: Manipulate Your ZIP Files Ef...</td>\n",
       "    </tr>\n",
       "  </tbody>\n",
       "</table>\n",
       "</div>"
      ],
      "text/plain": [
       "                                          CARD TITLES\n",
       "0                     How to Split a String in Python\n",
       "1             NumPy Techniques and Practical Examples\n",
       "2                  Python for Loops: The Pythonic Way\n",
       "3        Build a Dice-Rolling Application With Python\n",
       "4                             Top Python Game Engines\n",
       "5   Develop Data Visualization Interfaces in Pytho...\n",
       "6                Build a Quiz Application With Python\n",
       "7    Build a Tic-Tac-Toe Game With Python and Tkinter\n",
       "8   Python & APIs: A Winning Combo for Reading Pub...\n",
       "9    A Guide to Modern Python String Formatting Tools\n",
       "10  Providing Multiple Constructors in Your Python...\n",
       "11   Natural Language Processing With spaCy in Python\n",
       "12  Split Your Dataset With scikit-learn's train_t...\n",
       "13  Creating a Scalable Flask Web Application From...\n",
       "14  How to Split a Python List or Iterable Into Ch...\n",
       "15                          Lists vs Tuples in Python\n",
       "16      Python Folium: Create Web Maps From Your Data\n",
       "17  Python's \"in\" and \"not in\" Operators: Check fo...\n",
       "18  Python's zipfile: Manipulate Your ZIP Files Ef..."
      ]
     },
     "execution_count": 36,
     "metadata": {},
     "output_type": "execute_result"
    }
   ],
   "source": [
    "import pandas as x\n",
    "df=x.DataFrame(DIC)\n",
    "df"
   ]
  },
  {
   "cell_type": "code",
   "execution_count": 40,
   "id": "37445ad5-cc94-4e60-8234-ae8d5229cece",
   "metadata": {},
   "outputs": [
    {
     "data": {
      "text/html": [
       "<div>\n",
       "<style scoped>\n",
       "    .dataframe tbody tr th:only-of-type {\n",
       "        vertical-align: middle;\n",
       "    }\n",
       "\n",
       "    .dataframe tbody tr th {\n",
       "        vertical-align: top;\n",
       "    }\n",
       "\n",
       "    .dataframe thead th {\n",
       "        text-align: right;\n",
       "    }\n",
       "</style>\n",
       "<table border=\"1\" class=\"dataframe\">\n",
       "  <thead>\n",
       "    <tr style=\"text-align: right;\">\n",
       "      <th></th>\n",
       "      <th>CARD TITLES</th>\n",
       "    </tr>\n",
       "  </thead>\n",
       "  <tbody>\n",
       "    <tr>\n",
       "      <th>1</th>\n",
       "      <td>How to Split a String in Python</td>\n",
       "    </tr>\n",
       "    <tr>\n",
       "      <th>2</th>\n",
       "      <td>NumPy Techniques and Practical Examples</td>\n",
       "    </tr>\n",
       "    <tr>\n",
       "      <th>3</th>\n",
       "      <td>Python for Loops: The Pythonic Way</td>\n",
       "    </tr>\n",
       "    <tr>\n",
       "      <th>4</th>\n",
       "      <td>Build a Dice-Rolling Application With Python</td>\n",
       "    </tr>\n",
       "    <tr>\n",
       "      <th>5</th>\n",
       "      <td>Top Python Game Engines</td>\n",
       "    </tr>\n",
       "    <tr>\n",
       "      <th>6</th>\n",
       "      <td>Develop Data Visualization Interfaces in Pytho...</td>\n",
       "    </tr>\n",
       "    <tr>\n",
       "      <th>7</th>\n",
       "      <td>Build a Quiz Application With Python</td>\n",
       "    </tr>\n",
       "    <tr>\n",
       "      <th>8</th>\n",
       "      <td>Build a Tic-Tac-Toe Game With Python and Tkinter</td>\n",
       "    </tr>\n",
       "    <tr>\n",
       "      <th>9</th>\n",
       "      <td>Python &amp; APIs: A Winning Combo for Reading Pub...</td>\n",
       "    </tr>\n",
       "    <tr>\n",
       "      <th>10</th>\n",
       "      <td>A Guide to Modern Python String Formatting Tools</td>\n",
       "    </tr>\n",
       "    <tr>\n",
       "      <th>11</th>\n",
       "      <td>Providing Multiple Constructors in Your Python...</td>\n",
       "    </tr>\n",
       "    <tr>\n",
       "      <th>12</th>\n",
       "      <td>Natural Language Processing With spaCy in Python</td>\n",
       "    </tr>\n",
       "    <tr>\n",
       "      <th>13</th>\n",
       "      <td>Split Your Dataset With scikit-learn's train_t...</td>\n",
       "    </tr>\n",
       "    <tr>\n",
       "      <th>14</th>\n",
       "      <td>Creating a Scalable Flask Web Application From...</td>\n",
       "    </tr>\n",
       "    <tr>\n",
       "      <th>15</th>\n",
       "      <td>How to Split a Python List or Iterable Into Ch...</td>\n",
       "    </tr>\n",
       "    <tr>\n",
       "      <th>16</th>\n",
       "      <td>Lists vs Tuples in Python</td>\n",
       "    </tr>\n",
       "    <tr>\n",
       "      <th>17</th>\n",
       "      <td>Python Folium: Create Web Maps From Your Data</td>\n",
       "    </tr>\n",
       "    <tr>\n",
       "      <th>18</th>\n",
       "      <td>Python's \"in\" and \"not in\" Operators: Check fo...</td>\n",
       "    </tr>\n",
       "    <tr>\n",
       "      <th>19</th>\n",
       "      <td>Python's zipfile: Manipulate Your ZIP Files Ef...</td>\n",
       "    </tr>\n",
       "  </tbody>\n",
       "</table>\n",
       "</div>"
      ],
      "text/plain": [
       "                                          CARD TITLES\n",
       "1                     How to Split a String in Python\n",
       "2             NumPy Techniques and Practical Examples\n",
       "3                  Python for Loops: The Pythonic Way\n",
       "4        Build a Dice-Rolling Application With Python\n",
       "5                             Top Python Game Engines\n",
       "6   Develop Data Visualization Interfaces in Pytho...\n",
       "7                Build a Quiz Application With Python\n",
       "8    Build a Tic-Tac-Toe Game With Python and Tkinter\n",
       "9   Python & APIs: A Winning Combo for Reading Pub...\n",
       "10   A Guide to Modern Python String Formatting Tools\n",
       "11  Providing Multiple Constructors in Your Python...\n",
       "12   Natural Language Processing With spaCy in Python\n",
       "13  Split Your Dataset With scikit-learn's train_t...\n",
       "14  Creating a Scalable Flask Web Application From...\n",
       "15  How to Split a Python List or Iterable Into Ch...\n",
       "16                          Lists vs Tuples in Python\n",
       "17      Python Folium: Create Web Maps From Your Data\n",
       "18  Python's \"in\" and \"not in\" Operators: Check fo...\n",
       "19  Python's zipfile: Manipulate Your ZIP Files Ef..."
      ]
     },
     "execution_count": 40,
     "metadata": {},
     "output_type": "execute_result"
    }
   ],
   "source": [
    "df.index=range(1, len(df)+1)\n",
    "df"
   ]
  },
  {
   "cell_type": "code",
   "execution_count": 44,
   "id": "f213cb02-ab39-49d3-b587-c3a1752bfdc7",
   "metadata": {},
   "outputs": [],
   "source": [
    "df.to_csv(\"CARD_TITLES.csv\")"
   ]
  },
  {
   "cell_type": "code",
   "execution_count": null,
   "id": "ea04f0d6-f782-460c-93f7-3ba171326be5",
   "metadata": {},
   "outputs": [],
   "source": []
  }
 ],
 "metadata": {
  "kernelspec": {
   "display_name": "Python 3 (ipykernel)",
   "language": "python",
   "name": "python3"
  },
  "language_info": {
   "codemirror_mode": {
    "name": "ipython",
    "version": 3
   },
   "file_extension": ".py",
   "mimetype": "text/x-python",
   "name": "python",
   "nbconvert_exporter": "python",
   "pygments_lexer": "ipython3",
   "version": "3.12.4"
  }
 },
 "nbformat": 4,
 "nbformat_minor": 5
}
